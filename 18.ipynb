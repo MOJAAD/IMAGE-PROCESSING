{
 "cells": [
  {
   "cell_type": "code",
   "execution_count": 1,
   "metadata": {},
   "outputs": [],
   "source": [
    "import cv2"
   ]
  },
  {
   "cell_type": "code",
   "execution_count": 4,
   "metadata": {},
   "outputs": [],
   "source": [
    "def draw_rectsngle(event,x,y,flag,param):\n",
    "    global pt1,pt2,topleft_clicked,botright_clicked\n",
    "    if event == cv2.EVENT_LBUTTONDOWN:\n",
    "        if topleft_clicked == True and botright_clicked == True :\n",
    "            pt1 = (0,0)\n",
    "            pt2 = (0,0)\n",
    "            topleft_clicked = False\n",
    "            botright_clicked = False\n",
    "        if topleft_clicked == False:\n",
    "            pt1=(x,y)\n",
    "            topleft_clicked = True\n",
    "        elif botright_clicked == False:\n",
    "            pt2=(x,y)\n",
    "            botright_clicked = True\n",
    "\n",
    "pt1 = (0,0)\n",
    "pt2 = (0,0)\n",
    "topleft_clicked = False\n",
    "botright_clicked = False\n",
    "\n",
    "cap = cv2.VideoCapture(0)\n",
    "cv2.namedWindow('Test')\n",
    "cv2.setMouseCallback('Test',draw_rectsngle)\n",
    "\n",
    "while True:\n",
    "    \n",
    "    ret,frame = cap.read()\n",
    "    \n",
    "    if topleft_clicked:\n",
    "        cv2.circle(frame,pt1,5,(0,0,255),-1)\n",
    "    if topleft_clicked and botright_clicked :\n",
    "        cv2.rectangle(frame,pt1,pt2,(0,0,255),3)\n",
    "    \n",
    "    cv2.imshow('Test',frame)\n",
    "    \n",
    "    if cv2.waitKey(10) & 0xFF == ord('q') :\n",
    "        break\n",
    "        \n",
    "cap.release()\n",
    "cv2.destroyAllWindows()"
   ]
  }
 ],
 "metadata": {
  "kernelspec": {
   "display_name": "Python 3",
   "language": "python",
   "name": "python3"
  },
  "language_info": {
   "codemirror_mode": {
    "name": "ipython",
    "version": 3
   },
   "file_extension": ".py",
   "mimetype": "text/x-python",
   "name": "python",
   "nbconvert_exporter": "python",
   "pygments_lexer": "ipython3",
   "version": "3.7.0"
  }
 },
 "nbformat": 4,
 "nbformat_minor": 2
}

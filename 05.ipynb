{
 "cells": [
  {
   "cell_type": "code",
   "execution_count": null,
   "metadata": {},
   "outputs": [],
   "source": [
    "import numpy as np\n",
    "import cv2\n",
    "\n",
    "drowing=False\n",
    "ix=-1\n",
    "iy=-1\n",
    "\n",
    "\n",
    "def drow_rectangle(event,x,y,flags,param):\n",
    "    global ix,iy,drowing\n",
    "    if event == cv2.EVENT_LBUTTONDOWN:\n",
    "        drowing=True\n",
    "        ix,iy=x,y\n",
    "    elif event == cv2.EVENT_MOUSEMOVE:\n",
    "        if drowing == True :\n",
    "            cv2.rectangle(img,(ix,iy),(x,y),(0,255,0),-1)\n",
    "    elif event == cv2.EVENT_LBUTTONUP:\n",
    "        if drowing == False:\n",
    "            cv2.rectangle(img,(ix,iy),(x,y),(0,255,0),-1)\n",
    "        \n",
    "    \n",
    "img = np.zeros((512,512,3))\n",
    "cv2.namedWindow(winname='MY_Drowing')\n",
    "cv2.setMouseCallback('MY_Drowing',drow_rectangle)\n",
    "\n",
    "while True :\n",
    "    \n",
    "    cv2.imshow('MY_Drowing',img)\n",
    "    if cv2.waitKey(1) and 0xFF ==27 :\n",
    "        break\n",
    "        \n",
    "cv2.destroyAllWindows()"
   ]
  },
  {
   "cell_type": "code",
   "execution_count": null,
   "metadata": {},
   "outputs": [],
   "source": []
  }
 ],
 "metadata": {
  "kernelspec": {
   "display_name": "Python 3",
   "language": "python",
   "name": "python3"
  },
  "language_info": {
   "codemirror_mode": {
    "name": "ipython",
    "version": 3
   },
   "file_extension": ".py",
   "mimetype": "text/x-python",
   "name": "python",
   "nbconvert_exporter": "python",
   "pygments_lexer": "ipython3",
   "version": "3.7.0"
  }
 },
 "nbformat": 4,
 "nbformat_minor": 2
}

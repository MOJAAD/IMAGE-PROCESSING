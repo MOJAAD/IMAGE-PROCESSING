{
 "cells": [
  {
   "cell_type": "code",
   "execution_count": null,
   "metadata": {},
   "outputs": [],
   "source": [
    "import numpy as np\n",
    "import matplotlib.pyplot as plt\n",
    "%matplotlib inline\n",
    "import cv2\n",
    "\n",
    "def drow_circle(event,x,y,flags,param):\n",
    "    if event == cv2.EVENT_LBUTTONDOWN : \n",
    "        cv2.circle(img,(x,y),100,(0,255,255),-1)\n",
    "    elif event == cv2.EVENT_RBUTTONDOWN : \n",
    "        cv2.circle(img,(x,y),100,(255,255,0),-1)\n",
    "        \n",
    "cv2.namedWindow(winname='My_Drowing')\n",
    "cv2.setMouseCallback('My_Drowing',drow_circle)\n",
    "\n",
    "img = np.zeros((512,512,3),np.int8)\n",
    "\n",
    "while True :\n",
    "    \n",
    "    cv2.imshow('My_Drowing',img)\n",
    "    if cv2.waitKey(20) and 0xFF ==27 :\n",
    "        break\n",
    "        \n",
    "cv2.destroyAllWindows()"
   ]
  },
  {
   "cell_type": "code",
   "execution_count": null,
   "metadata": {},
   "outputs": [],
   "source": []
  },
  {
   "cell_type": "code",
   "execution_count": null,
   "metadata": {},
   "outputs": [],
   "source": []
  }
 ],
 "metadata": {
  "kernelspec": {
   "display_name": "Python 3",
   "language": "python",
   "name": "python3"
  },
  "language_info": {
   "codemirror_mode": {
    "name": "ipython",
    "version": 3
   },
   "file_extension": ".py",
   "mimetype": "text/x-python",
   "name": "python",
   "nbconvert_exporter": "python",
   "pygments_lexer": "ipython3",
   "version": "3.7.0"
  }
 },
 "nbformat": 4,
 "nbformat_minor": 2
}
